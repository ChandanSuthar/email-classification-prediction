{
 "cells": [
  {
   "cell_type": "markdown",
   "metadata": {},
   "source": [
    "date:- 05-08-24"
   ]
  },
  {
   "cell_type": "code",
   "execution_count": null,
   "metadata": {},
   "outputs": [],
   "source": [
    "### open(filepath, mode)\n",
    "\n",
    "demo('demo.txt','r')"
   ]
  },
  {
   "cell_type": "code",
   "execution_count": 1,
   "metadata": {},
   "outputs": [
    {
     "name": "stdout",
     "output_type": "stream",
     "text": [
      " Volume in drive C is Windows-SSD\n",
      " Volume Serial Number is B621-D7B4\n",
      "\n",
      " Directory of c:\\Users\\chand\\OneDrive\\Documents\\DS-Internship\\email_classification\\data\n",
      "\n",
      "05-08-2024  11:04 AM    <DIR>          .\n",
      "05-08-2024  10:19 AM    <DIR>          ..\n",
      "05-08-2024  11:02 AM             8,887 email(updated).ipynb\n",
      "05-08-2024  10:29 AM               294 email.ipynb\n",
      "05-08-2024  11:04 AM               534 filehandling.ipynb\n",
      "05-08-2024  10:18 AM           477,907 SMSSpamCollection.txt\n",
      "               4 File(s)        487,622 bytes\n",
      "               2 Dir(s)   2,033,373,184 bytes free\n"
     ]
    }
   ],
   "source": [
    "ls"
   ]
  },
  {
   "cell_type": "code",
   "execution_count": 2,
   "metadata": {},
   "outputs": [],
   "source": [
    "import pandas as pd \n",
    "import numpy as np"
   ]
  },
  {
   "cell_type": "code",
   "execution_count": 3,
   "metadata": {},
   "outputs": [],
   "source": [
    "message = \"\"\"\n",
    "bla bla bla bla , you can type anything you want , hahahahhha. I don't know how many of this files or lines are hehe.\n",
    "\"\"\"\n",
    "file = open('demo.txt','w')  \n",
    "file.write(message)\n",
    "file.close()"
   ]
  },
  {
   "cell_type": "code",
   "execution_count": 4,
   "metadata": {},
   "outputs": [
    {
     "name": "stdout",
     "output_type": "stream",
     "text": [
      "\n",
      "bla bla bla bla , you can type anything you want , hahahahhha. I don't know how many of this files or lines are hehe.\n",
      "\n"
     ]
    }
   ],
   "source": [
    "file = open('demo.txt','r') \n",
    "data = file.read()\n",
    "print(data)"
   ]
  },
  {
   "cell_type": "code",
   "execution_count": 5,
   "metadata": {},
   "outputs": [],
   "source": [
    "message = \"\"\"\n",
    "\\nHi, we meet again haha , you can't go anywhere , you have to be saved in this file, you are in a matrix haha.\n",
    "\"\"\"\n",
    "file = open('demo.txt','a')  \n",
    "file.write(message)\n",
    "file.close()"
   ]
  },
  {
   "cell_type": "code",
   "execution_count": 10,
   "metadata": {},
   "outputs": [
    {
     "name": "stdout",
     "output_type": "stream",
     "text": [
      "\n",
      "bla bla bla bla , you can type anything you want , hahahahhha. I don't know how many of this files or lines are hehe.\n",
      "\n",
      "\n",
      "Hi, we meet again haha , you can't go anywhere , you have to be saved in this file, you are in a matrix haha.\n",
      "\n"
     ]
    }
   ],
   "source": [
    "file = open('demo.txt','r') \n",
    "data = file.read()\n",
    "print(data)"
   ]
  },
  {
   "cell_type": "code",
   "execution_count": 11,
   "metadata": {},
   "outputs": [
    {
     "name": "stdout",
     "output_type": "stream",
     "text": [
      "\n",
      "bla bla bla bla , you can type anything you want , hahahahhha. I don't know how many of this files or lines are hehe.\n",
      "\n",
      "\n",
      "Hi, we meet again haha , you can't go anywhere , you have to be saved in this file, you are in a matrix haha.\n",
      "\n"
     ]
    }
   ],
   "source": [
    "file = open('demo.txt','r') \n",
    "data = file.read()\n",
    "file.close()\n",
    "print(data)"
   ]
  },
  {
   "cell_type": "code",
   "execution_count": 12,
   "metadata": {},
   "outputs": [
    {
     "name": "stdout",
     "output_type": "stream",
     "text": [
      "\n",
      "bla bla bla bla , you can type anything you want , hahahahhha. I don't know how many of this files or lines are hehe.\n",
      "\n",
      "\n",
      "Hi, we meet again haha , you can't go anywhere , you have to be saved in this file, you are in a matrix haha.\n",
      "\n"
     ]
    }
   ],
   "source": [
    "with open('demo.txt','r')  as file:\n",
    "    data = file.read()\n",
    "    print(data)"
   ]
  },
  {
   "cell_type": "code",
   "execution_count": null,
   "metadata": {},
   "outputs": [],
   "source": []
  }
 ],
 "metadata": {
  "kernelspec": {
   "display_name": "Python 3",
   "language": "python",
   "name": "python3"
  },
  "language_info": {
   "codemirror_mode": {
    "name": "ipython",
    "version": 3
   },
   "file_extension": ".py",
   "mimetype": "text/x-python",
   "name": "python",
   "nbconvert_exporter": "python",
   "pygments_lexer": "ipython3",
   "version": "3.12.3"
  }
 },
 "nbformat": 4,
 "nbformat_minor": 2
}
